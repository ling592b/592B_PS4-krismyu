{
 "cells": [
  {
   "cell_type": "code",
   "execution_count": 1,
   "metadata": {
    "collapsed": true
   },
   "outputs": [],
   "source": [
    "%matplotlib inline"
   ]
  },
  {
   "cell_type": "markdown",
   "metadata": {},
   "source": [
    "# 592B Spring 2018 Problem Set 4 due Tues 03/06 11.59PM"
   ]
  },
  {
   "cell_type": "markdown",
   "metadata": {},
   "source": [
    "The purpose of this problem set is to be a review and to help you connect what we've been doing in this course with your background knowledge in phonetics. Therefore, the problem set has you use both Praat and the computational/mathematical tools we've been learning, to do the same operations. You'll be creating a number of audio files and image files in this problem set. Save them/write them to file in a directory in your problem set repository called `supp/` (for supplementary materials)."
   ]
  },
  {
   "cell_type": "code",
   "execution_count": 2,
   "metadata": {
    "collapsed": true
   },
   "outputs": [],
   "source": [
    "import numpy as np\n",
    "import matplotlib.pyplot as plt\n",
    "import scipy.io.wavfile as wavfile \n",
    "import librosa\n",
    "\n",
    "from ipywidgets import interactive\n",
    "from IPython.display import Audio, display"
   ]
  },
  {
   "cell_type": "markdown",
   "metadata": {},
   "source": [
    "## Problem 1: A pure tone\n",
    "\n",
    "1. In Praat, use `New > Sound > Create sound from formula` to create an audio file that is the signal $$ f_1(t) = 0.5 * sin(1220\\pi t)  $$ sampled at 22050 Hz, with a duration of 1.5 seconds. Name your file `f1.wav` and make sure to include it in `supp/`.\n",
    "\n",
    "2. In Praat, determine the period and the fundamental frequency of `f1` off of the waveform. Does this match what you see with the blue line f0 contour? It should. If not, explain why. Take a screenshot showing how you determined the period off of the waveform (it should show you determining the duration of one cycle of the waveform). Save the screenshot as `f1-wave.png` or some other image file, e.g., `f1-wave.jpg`, `f1-wave.gif`.\n",
    "\n",
    "3. In Praat, take the spectrum of `f1` over a portion of the signal, approximately 5 or 6 cycles. Determine the f0 of the signal using the spectrum, and explain how you did it. Why is there only a single peak in the spectrum?\n",
    "\n",
    "4. In Praat, examine the spectrogram of `f1`, at Praat's default settings for spectrograms. Explain why the spectrogram looks the way it does.\n",
    "\n",
    "5. In python, define the same signal `f1`. Show how to compute $f0$ of the signal `f1` off of the mathematical formula for $f_1(t)$.\n",
    "\n",
    "6. In python, plot `f1` and set the x-limits so that you can determine the period of `f1` off of the plot. See that this period measurement matches your answers above.\n",
    "\n",
    "7. In python, create an Audio object from the defined `f1` signal and play it. Does it sound like your Praat f1 sound object?\n",
    "\n",
    "8. In python, create and plot the spectrum of `f1` using `fftpack.fft`. Compare it with the spectrum you saw in Praat and explain how and why it is both similar and different.\n",
    "\n",
    "8. In python, create and plot the spectrogram of `f1` using `fftpack.fft`. Compare it with the spectrogram you saw in Praat and explain how and why it is both similar and different."
   ]
  },
  {
   "cell_type": "markdown",
   "metadata": {},
   "source": [
    "## Problem 2: The vowel [i]\n",
    "\n",
    "1. In Praat, use `New > Sound > Create Sound from VowelEditor` to create an audio file that is the vowel [i], with a duration of 1.5 seconds. Name your file `i.wav` and make sure to include it in `supp/`.\n",
    "\n",
    "2. In Praat, determine the period and the fundamental frequency of `f1` off of the waveform. Does this match what you see with the blue line f0 contour? It should. If not, explain why. Take a screenshot showing how you determined the period off of the waveform (it should show you determining the duration of one cycle of the waveform). Save the screenshot as `i-wave.png` or some other image file, e.g., `i-wave.jpg`, `i-wave.gif`, and include it in your jupyter notebook.\n",
    "\n",
    "3. In Praat, take the spectrum of `i` over a portion of the signal, approximately 10 cycles. Determine the f0 of the signal using the spectrum, and explain how you did it. How far apart are adjacent spectral peaks from each other? Why is the envelope of the spectrum the way it is, i.e., the curve you can trace by following along the top line of the spectral peaks? Estimate the frequencies of the formants F1 and F2 off of the spectrum, and explain how you did that.\n",
    "\n",
    "4. In Praat, examine the spectrogram of `i`, at Praat's default settings for spectrograms. Explain why the spectrogram looks the way it does. Now change the spectrogram settings to have a window length of `0.5`. Explain why the spectrogram looks the way it does now.  \n",
    "\n",
    "5. In python, read in `i.wav` using `librosa`, without changing the original sampling rate of the file. What is the sampling rate of the file?\n",
    "\n",
    "6. In python, plot `i` and set the x-limits so that you can determine the period of `i` off of the plot. See that this period measurement matches your answers above.\n",
    "\n",
    "7. In python, create an Audio object from the defined `i` signal and play it. Does it sound like your Praat f1 sound object?\n",
    "\n",
    "8. In python, create and plot the spectrum of `i` using `fftpack.fft`. Compare it with the spectrum you saw in Praat and explain how and why it is both similar and different.\n",
    "\n",
    "9. In python, create and plot the spectrogram of `i` using `fftpack.fft`. Compare it with the spectrograms you saw in Praat and explain how and why it is both similar and different.\n",
    "\n",
    "10. Resample `i` to a sampling rate below the Nyquist rate, and explain how you chose the rate you did. Repeat steps 6-9 with the resampled signal.\n"
   ]
  }
 ],
 "metadata": {
  "kernelspec": {
   "display_name": "Python 3",
   "language": "python",
   "name": "python3"
  },
  "language_info": {
   "codemirror_mode": {
    "name": "ipython",
    "version": 3
   },
   "file_extension": ".py",
   "mimetype": "text/x-python",
   "name": "python",
   "nbconvert_exporter": "python",
   "pygments_lexer": "ipython3",
   "version": "3.6.3"
  }
 },
 "nbformat": 4,
 "nbformat_minor": 2
}
